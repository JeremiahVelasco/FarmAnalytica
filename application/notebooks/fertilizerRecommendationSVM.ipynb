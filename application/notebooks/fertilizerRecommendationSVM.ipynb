{
 "cells": [
  {
   "cell_type": "code",
   "execution_count": 29,
   "metadata": {},
   "outputs": [],
   "source": [
    "import pandas as pd\n",
    "import numpy as np"
   ]
  },
  {
   "cell_type": "code",
   "execution_count": 30,
   "metadata": {},
   "outputs": [
    {
     "data": {
      "text/html": [
       "<div>\n",
       "<style scoped>\n",
       "    .dataframe tbody tr th:only-of-type {\n",
       "        vertical-align: middle;\n",
       "    }\n",
       "\n",
       "    .dataframe tbody tr th {\n",
       "        vertical-align: top;\n",
       "    }\n",
       "\n",
       "    .dataframe thead th {\n",
       "        text-align: right;\n",
       "    }\n",
       "</style>\n",
       "<table border=\"1\" class=\"dataframe\">\n",
       "  <thead>\n",
       "    <tr style=\"text-align: right;\">\n",
       "      <th></th>\n",
       "      <th>Temparature</th>\n",
       "      <th>Humidity</th>\n",
       "      <th>Soil Type</th>\n",
       "      <th>Crop Type</th>\n",
       "      <th>Nitrogen</th>\n",
       "      <th>Potassium</th>\n",
       "      <th>Phosphorous</th>\n",
       "      <th>Fertilizer</th>\n",
       "      <th>Fertilizer Name</th>\n",
       "    </tr>\n",
       "  </thead>\n",
       "  <tbody>\n",
       "    <tr>\n",
       "      <th>0</th>\n",
       "      <td>26</td>\n",
       "      <td>52</td>\n",
       "      <td>4</td>\n",
       "      <td>3</td>\n",
       "      <td>37</td>\n",
       "      <td>0</td>\n",
       "      <td>0</td>\n",
       "      <td>Urea</td>\n",
       "      <td>6</td>\n",
       "    </tr>\n",
       "    <tr>\n",
       "      <th>1</th>\n",
       "      <td>29</td>\n",
       "      <td>52</td>\n",
       "      <td>2</td>\n",
       "      <td>8</td>\n",
       "      <td>12</td>\n",
       "      <td>0</td>\n",
       "      <td>36</td>\n",
       "      <td>DAP</td>\n",
       "      <td>5</td>\n",
       "    </tr>\n",
       "    <tr>\n",
       "      <th>2</th>\n",
       "      <td>34</td>\n",
       "      <td>65</td>\n",
       "      <td>0</td>\n",
       "      <td>1</td>\n",
       "      <td>7</td>\n",
       "      <td>9</td>\n",
       "      <td>30</td>\n",
       "      <td>14-35-14</td>\n",
       "      <td>1</td>\n",
       "    </tr>\n",
       "    <tr>\n",
       "      <th>3</th>\n",
       "      <td>32</td>\n",
       "      <td>62</td>\n",
       "      <td>3</td>\n",
       "      <td>9</td>\n",
       "      <td>22</td>\n",
       "      <td>0</td>\n",
       "      <td>20</td>\n",
       "      <td>28-28</td>\n",
       "      <td>4</td>\n",
       "    </tr>\n",
       "    <tr>\n",
       "      <th>4</th>\n",
       "      <td>28</td>\n",
       "      <td>54</td>\n",
       "      <td>1</td>\n",
       "      <td>6</td>\n",
       "      <td>35</td>\n",
       "      <td>0</td>\n",
       "      <td>0</td>\n",
       "      <td>Urea</td>\n",
       "      <td>6</td>\n",
       "    </tr>\n",
       "    <tr>\n",
       "      <th>...</th>\n",
       "      <td>...</td>\n",
       "      <td>...</td>\n",
       "      <td>...</td>\n",
       "      <td>...</td>\n",
       "      <td>...</td>\n",
       "      <td>...</td>\n",
       "      <td>...</td>\n",
       "      <td>...</td>\n",
       "      <td>...</td>\n",
       "    </tr>\n",
       "    <tr>\n",
       "      <th>94</th>\n",
       "      <td>25</td>\n",
       "      <td>50</td>\n",
       "      <td>1</td>\n",
       "      <td>7</td>\n",
       "      <td>24</td>\n",
       "      <td>0</td>\n",
       "      <td>19</td>\n",
       "      <td>28-28</td>\n",
       "      <td>4</td>\n",
       "    </tr>\n",
       "    <tr>\n",
       "      <th>95</th>\n",
       "      <td>30</td>\n",
       "      <td>60</td>\n",
       "      <td>3</td>\n",
       "      <td>9</td>\n",
       "      <td>4</td>\n",
       "      <td>17</td>\n",
       "      <td>17</td>\n",
       "      <td>10-26-26</td>\n",
       "      <td>0</td>\n",
       "    </tr>\n",
       "    <tr>\n",
       "      <th>96</th>\n",
       "      <td>38</td>\n",
       "      <td>72</td>\n",
       "      <td>2</td>\n",
       "      <td>10</td>\n",
       "      <td>39</td>\n",
       "      <td>0</td>\n",
       "      <td>0</td>\n",
       "      <td>Urea</td>\n",
       "      <td>6</td>\n",
       "    </tr>\n",
       "    <tr>\n",
       "      <th>97</th>\n",
       "      <td>36</td>\n",
       "      <td>60</td>\n",
       "      <td>4</td>\n",
       "      <td>4</td>\n",
       "      <td>15</td>\n",
       "      <td>0</td>\n",
       "      <td>41</td>\n",
       "      <td>DAP</td>\n",
       "      <td>5</td>\n",
       "    </tr>\n",
       "    <tr>\n",
       "      <th>98</th>\n",
       "      <td>29</td>\n",
       "      <td>58</td>\n",
       "      <td>0</td>\n",
       "      <td>8</td>\n",
       "      <td>12</td>\n",
       "      <td>0</td>\n",
       "      <td>10</td>\n",
       "      <td>20-20</td>\n",
       "      <td>3</td>\n",
       "    </tr>\n",
       "  </tbody>\n",
       "</table>\n",
       "<p>99 rows × 9 columns</p>\n",
       "</div>"
      ],
      "text/plain": [
       "    Temparature  Humidity  Soil Type  Crop Type  Nitrogen  Potassium   \n",
       "0            26        52          4          3        37          0  \\\n",
       "1            29        52          2          8        12          0   \n",
       "2            34        65          0          1         7          9   \n",
       "3            32        62          3          9        22          0   \n",
       "4            28        54          1          6        35          0   \n",
       "..          ...       ...        ...        ...       ...        ...   \n",
       "94           25        50          1          7        24          0   \n",
       "95           30        60          3          9         4         17   \n",
       "96           38        72          2         10        39          0   \n",
       "97           36        60          4          4        15          0   \n",
       "98           29        58          0          8        12          0   \n",
       "\n",
       "    Phosphorous Fertilizer  Fertilizer Name  \n",
       "0             0       Urea                6  \n",
       "1            36        DAP                5  \n",
       "2            30   14-35-14                1  \n",
       "3            20      28-28                4  \n",
       "4             0       Urea                6  \n",
       "..          ...        ...              ...  \n",
       "94           19      28-28                4  \n",
       "95           17   10-26-26                0  \n",
       "96            0       Urea                6  \n",
       "97           41        DAP                5  \n",
       "98           10      20-20                3  \n",
       "\n",
       "[99 rows x 9 columns]"
      ]
     },
     "execution_count": 30,
     "metadata": {},
     "output_type": "execute_result"
    }
   ],
   "source": [
    "fertilizerRecommendation=pd.read_csv(\"../preprocessedData/preprocessedfertilizerprediction1.csv\")\n",
    "fertilizerRecommendation.drop(columns=[\"Unnamed: 0\"])"
   ]
  },
  {
   "cell_type": "code",
   "execution_count": 31,
   "metadata": {},
   "outputs": [],
   "source": [
    "from sklearn.model_selection import train_test_split\n",
    "X = fertilizerRecommendation.iloc[:, :7]\n",
    "y=fertilizerRecommendation[\"Fertilizer\"]"
   ]
  },
  {
   "cell_type": "code",
   "execution_count": 32,
   "metadata": {},
   "outputs": [
    {
     "data": {
      "text/plain": [
       "array([[-1.71464282, -1.22908361, -1.2307368 ,  1.4178901 , -0.68850963,\n",
       "         1.56753938, -0.58491041],\n",
       "       [-1.67965011, -0.36814533, -1.2307368 , -0.00719741,  0.91154796,\n",
       "        -0.59865825, -0.58491041],\n",
       "       [-1.6446574 ,  1.06675181,  1.00649239, -1.43228493, -1.32853267,\n",
       "        -1.03189778,  0.97077668],\n",
       "       [-1.60966469,  0.49279296,  0.49020873,  0.70534635,  1.23155948,\n",
       "         0.2678208 , -0.58491041],\n",
       "       [-1.57467198, -0.65512475, -0.8865477 , -0.71974117,  0.27152493,\n",
       "         1.39424356, -0.58491041],\n",
       "       [-1.53967927, -1.22908361, -1.2307368 ,  1.4178901 , -1.64854419,\n",
       "        -0.59865825,  1.1436308 ],\n",
       "       [-1.50468656, -1.51606304, -1.57492591,  0.70534635, -1.32853267,\n",
       "        -0.85860197, -0.58491041],\n",
       "       [-1.46969385,  0.77977239,  0.83439783, -0.00719741,  1.551571  ,\n",
       "         1.914131  , -0.58491041],\n",
       "       [-1.43470114, -0.0811659 ,  0.14601962,  1.4178901 , -0.36849811,\n",
       "         0.18117289, -0.58491041],\n",
       "       [-1.39970842, -0.36814533, -0.19816949, -1.43228493, -0.04848659,\n",
       "        -0.85860197,  0.62506844],\n",
       "       [-1.36471571, -0.94210418, -0.8865477 , -0.71974117,  0.59153645,\n",
       "        -0.51201035, -0.58491041],\n",
       "       [-1.329723  ,  0.20581353,  0.49020873,  1.4178901 , -0.68850963,\n",
       "        -0.42536244,  2.0079014 ],\n",
       "       [-1.29473029, -1.51606304, -1.57492591, -0.00719741, -1.32853267,\n",
       "         1.48089147, -0.58491041],\n",
       "       [-1.25973758,  0.49279296,  0.49020873, -0.71974117,  0.27152493,\n",
       "         0.44111661, -0.58491041],\n",
       "       [-1.22474487, -1.22908361, -1.2307368 ,  0.70534635, -1.00852115,\n",
       "        -0.42536244, -0.58491041],\n",
       "       [-1.18975216,  0.20581353,  0.49020873, -1.43228493,  0.91154796,\n",
       "        -0.77195406,  1.66219316],\n",
       "       [-1.15475945,  0.77977239,  0.83439783, -0.71974117,  0.59153645,\n",
       "         1.65418728, -0.58491041],\n",
       "       [-1.11976674, -1.51606304, -1.57492591,  1.4178901 , -1.64854419,\n",
       "         0.18117289, -0.58491041],\n",
       "       [-1.08477403, -0.65512475, -0.8865477 , -1.43228493, -1.32853267,\n",
       "         1.74083519, -0.58491041],\n",
       "       [-1.04978132, -0.36814533, -0.19816949, -0.00719741,  1.551571  ,\n",
       "        -0.51201035, -0.58491041],\n",
       "       [-1.01478861, -0.0811659 ,  0.14601962,  1.4178901 , -0.36849811,\n",
       "        -0.77195406, -0.58491041],\n",
       "       [-0.9797959 ,  1.06675181,  1.00649239, -0.00719741,  0.91154796,\n",
       "        -0.59865825,  1.83504728],\n",
       "       [-0.94480319,  1.35373124,  1.52277605,  0.70534635,  1.23155948,\n",
       "        -0.68530616, -0.58491041],\n",
       "       [-0.90981048, -0.65512475, -0.8865477 , -1.43228493, -0.36849811,\n",
       "         1.48089147, -0.58491041],\n",
       "       [-0.87481777,  0.77977239,  0.83439783, -0.71974117,  0.27152493,\n",
       "        -0.51201035, -0.58491041],\n",
       "       [-0.83982505, -1.22908361, -1.2307368 ,  1.4178901 , -0.68850963,\n",
       "         0.3544687 , -0.58491041],\n",
       "       [-0.80483234, -0.0811659 ,  0.14601962,  0.70534635, -1.32853267,\n",
       "        -0.85860197,  0.97077668],\n",
       "       [-0.76983963,  0.49279296,  0.49020873, -0.00719741,  0.91154796,\n",
       "         1.65418728, -0.58491041],\n",
       "       [-0.73484692,  1.9276901 ,  1.86696515, -1.43228493, -0.04848659,\n",
       "        -0.59865825, -0.58491041],\n",
       "       [-0.69985421, -1.22908361, -1.2307368 , -0.71974117,  0.59153645,\n",
       "        -0.42536244, -0.58491041],\n",
       "       [-0.6648615 , -0.36814533, -0.19816949,  0.70534635, -1.00852115,\n",
       "         0.44111661, -0.58491041],\n",
       "       [-0.62986879, -0.0811659 ,  0.14601962, -0.00719741,  0.91154796,\n",
       "        -0.59865825, -0.58491041],\n",
       "       [-0.59487608,  1.06675181,  1.00649239, -0.71974117,  0.27152493,\n",
       "         1.74083519, -0.58491041],\n",
       "       [-0.55988337,  1.64071067,  1.52277605,  1.4178901 , -1.64854419,\n",
       "        -1.03189778,  0.97077668],\n",
       "       [-0.52489066, -1.22908361, -1.2307368 , -0.00719741,  1.551571  ,\n",
       "         0.3544687 , -0.58491041],\n",
       "       [-0.48989795, -0.65512475, -0.8865477 , -1.43228493, -0.36849811,\n",
       "         1.914131  , -0.58491041],\n",
       "       [-0.45490524, -0.0811659 ,  0.14601962, -0.00719741, -1.32853267,\n",
       "        -0.94524987,  1.1436308 ],\n",
       "       [-0.41991253,  1.9276901 ,  1.86696515, -0.71974117,  0.27152493,\n",
       "        -0.59865825, -0.58491041],\n",
       "       [-0.38491982, -1.51606304, -1.57492591,  0.70534635, -1.00852115,\n",
       "        -0.33871454,  1.83504728],\n",
       "       [-0.34992711, -0.36814533, -0.19816949,  1.4178901 , -0.36849811,\n",
       "        -0.33871454, -0.58491041],\n",
       "       [-0.3149344 , -0.94210418, -0.8865477 , -0.71974117,  0.59153645,\n",
       "        -0.51201035, -0.58491041],\n",
       "       [-0.27994168, -0.0811659 ,  0.14601962, -0.00719741,  0.91154796,\n",
       "        -0.77195406,  0.62506844],\n",
       "       [-0.24494897,  0.49279296,  0.49020873,  0.70534635,  1.23155948,\n",
       "         0.2678208 , -0.58491041],\n",
       "       [-0.20995626,  1.06675181,  1.00649239, -1.43228493,  0.91154796,\n",
       "         1.39424356, -0.58491041],\n",
       "       [-0.17496355,  1.35373124,  1.35068149,  1.4178901 , -1.64854419,\n",
       "        -0.77195406, -0.58491041],\n",
       "       [-0.13997084,  2.21466952,  1.86696515, -0.00719741,  1.551571  ,\n",
       "        -0.94524987,  0.79792256],\n",
       "       [-0.10497813, -1.22908361, -1.2307368 , -1.43228493, -0.04848659,\n",
       "        -0.59865825, -0.58491041],\n",
       "       [-0.06998542, -0.36814533, -0.19816949, -0.71974117,  0.27152493,\n",
       "         0.44111661, -0.58491041],\n",
       "       [-0.03499271, -0.0811659 ,  0.14601962,  0.70534635, -1.00852115,\n",
       "         1.914131  , -0.58491041],\n",
       "       [ 0.        ,  0.77977239,  0.83439783,  1.4178901 , -0.68850963,\n",
       "        -1.20519359,  0.97077668],\n",
       "       [ 0.03499271,  1.06675181,  1.00649239,  0.70534635,  1.23155948,\n",
       "         0.3544687 , -0.58491041],\n",
       "       [ 0.06998542,  1.64071067,  1.52277605, -1.43228493, -0.04848659,\n",
       "        -0.51201035, -0.58491041],\n",
       "       [ 0.10497813, -0.65512475, -0.8865477 , -0.71974117,  0.59153645,\n",
       "         1.82748309, -0.58491041],\n",
       "       [ 0.13997084, -0.0811659 ,  0.14601962,  1.4178901 , -1.64854419,\n",
       "        -0.59865825, -0.58491041],\n",
       "       [ 0.17496355,  0.20581353,  0.49020873,  0.70534635, -1.32853267,\n",
       "        -0.68530616,  1.48933904],\n",
       "       [ 0.20995626, -0.94210418, -1.05864225, -1.43228493, -0.36849811,\n",
       "         0.3544687 , -0.58491041],\n",
       "       [ 0.24494897,  1.06675181,  1.00649239, -0.00719741,  1.551571  ,\n",
       "         1.65418728, -0.58491041],\n",
       "       [ 0.27994168, -0.36814533, -0.19816949,  1.4178901 , -0.36849811,\n",
       "        -0.94524987, -0.58491041],\n",
       "       [ 0.3149344 , -1.51606304, -1.57492591, -0.00719741,  0.91154796,\n",
       "        -0.68530616,  1.66219316],\n",
       "       [ 0.34992711,  0.49279296,  0.49020873,  0.70534635, -1.00852115,\n",
       "        -0.33871454, -0.58491041],\n",
       "       [ 0.38491982, -0.65512475, -0.8865477 , -0.71974117,  0.27152493,\n",
       "         1.48089147, -0.58491041],\n",
       "       [ 0.41991253, -0.0811659 ,  0.14601962, -0.00719741,  1.551571  ,\n",
       "        -0.51201035, -0.58491041],\n",
       "       [ 0.45490524,  1.06675181,  1.00649239, -1.43228493, -1.32853267,\n",
       "         0.44111661, -0.58491041],\n",
       "       [ 0.48989795, -0.65512475, -0.8865477 ,  1.4178901 , -1.64854419,\n",
       "        -1.20519359,  2.52646376],\n",
       "       [ 0.52489066, -0.94210418, -1.05864225, -1.43228493, -0.04848659,\n",
       "         1.56753938, -0.58491041],\n",
       "       [ 0.55988337,  1.64071067,  1.52277605,  0.70534635, -1.32853267,\n",
       "        -0.33871454, -0.58491041],\n",
       "       [ 0.59487608,  1.06675181,  1.00649239, -1.43228493,  0.91154796,\n",
       "        -0.85860197, -0.58491041],\n",
       "       [ 0.62986879, -0.36814533, -0.19816949, -0.00719741,  0.91154796,\n",
       "        -0.94524987,  0.79792256],\n",
       "       [ 0.6648615 , -1.51606304, -1.57492591, -0.71974117,  0.59153645,\n",
       "        -1.11854568,  2.69931788],\n",
       "       [ 0.69985421, -0.0811659 ,  0.14601962,  1.4178901 , -0.36849811,\n",
       "        -0.77195406, -0.58491041],\n",
       "       [ 0.73484692, -1.22908361, -1.2307368 , -0.71974117,  0.59153645,\n",
       "         0.18117289, -0.58491041],\n",
       "       [ 0.76983963,  0.20581353,  0.49020873,  0.70534635,  1.23155948,\n",
       "         1.74083519, -0.58491041],\n",
       "       [ 0.80483234,  1.06675181,  1.00649239, -0.00719741,  1.551571  ,\n",
       "         0.3544687 , -0.58491041],\n",
       "       [ 0.83982505, -0.94210418, -1.05864225, -1.43228493, -0.04848659,\n",
       "         2.0007789 , -0.58491041],\n",
       "       [ 0.87481777,  0.77977239,  0.83439783,  0.70534635, -1.00852115,\n",
       "        -0.51201035, -0.58491041],\n",
       "       [ 0.90981048, -0.36814533, -0.19816949, -0.71974117,  0.27152493,\n",
       "        -0.85860197,  1.1436308 ],\n",
       "       [ 0.94480319, -0.0811659 ,  0.14601962,  1.4178901 , -0.68850963,\n",
       "         0.2678208 , -0.58491041],\n",
       "       [ 0.9797959 , -0.94210418, -1.05864225, -0.00719741,  0.91154796,\n",
       "        -0.77195406, -0.58491041],\n",
       "       [ 1.01478861, -1.22908361, -1.2307368 , -0.71974117,  0.59153645,\n",
       "        -1.03189778,  2.18075552],\n",
       "       [ 1.04978132,  1.06675181,  1.00649239,  0.70534635, -1.32853267,\n",
       "        -0.42536244, -0.58491041],\n",
       "       [ 1.08477403, -0.65512475, -0.8865477 , -0.71974117,  0.27152493,\n",
       "        -0.77195406,  0.79792256],\n",
       "       [ 1.11976674, -0.0811659 ,  0.14601962,  1.4178901 , -0.36849811,\n",
       "         1.914131  , -0.58491041],\n",
       "       [ 1.15475945, -0.36814533, -0.19816949, -1.43228493, -1.32853267,\n",
       "        -0.42536244, -0.58491041],\n",
       "       [ 1.18975216, -1.22908361, -1.2307368 , -0.00719741,  0.91154796,\n",
       "        -0.68530616, -0.58491041],\n",
       "       [ 1.22474487,  0.20581353,  0.49020873,  1.4178901 , -1.64854419,\n",
       "         0.18117289, -0.58491041],\n",
       "       [ 1.25973758,  1.35373124,  1.35068149, -0.71974117,  0.59153645,\n",
       "        -0.94524987,  0.62506844],\n",
       "       [ 1.29473029, -0.36814533, -0.19816949,  0.70534635,  1.23155948,\n",
       "        -0.51201035,  2.35360964],\n",
       "       [ 1.329723  , -0.94210418, -1.05864225, -1.43228493, -0.36849811,\n",
       "         1.39424356, -0.58491041],\n",
       "       [ 1.36471571,  1.64071067,  1.52277605, -0.00719741,  1.551571  ,\n",
       "        -0.59865825,  2.52646376],\n",
       "       [ 1.39970842, -0.36814533, -0.19816949, -0.00719741, -1.32853267,\n",
       "        -0.68530616, -0.58491041],\n",
       "       [ 1.43470114, -0.0811659 ,  0.14601962, -1.43228493, -0.04848659,\n",
       "        -0.94524987,  0.97077668],\n",
       "       [ 1.46969385,  1.06675181,  1.00649239, -0.71974117,  0.27152493,\n",
       "        -1.11854568,  2.69931788],\n",
       "       [ 1.50468656,  1.64071067,  1.52277605,  0.70534635, -1.00852115,\n",
       "         1.914131  , -0.58491041],\n",
       "       [ 1.53967927, -0.65512475, -0.8865477 ,  1.4178901 , -0.68850963,\n",
       "        -0.85860197,  1.1436308 ],\n",
       "       [ 1.57467198, -1.51606304, -1.57492591, -0.71974117,  0.59153645,\n",
       "         0.44111661, -0.58491041],\n",
       "       [ 1.60966469, -0.0811659 ,  0.14601962,  0.70534635,  1.23155948,\n",
       "        -1.29184149,  2.35360964],\n",
       "       [ 1.6446574 ,  2.21466952,  2.21115426, -0.00719741,  1.551571  ,\n",
       "         1.74083519, -0.58491041],\n",
       "       [ 1.67965011,  1.64071067,  0.14601962,  1.4178901 , -0.36849811,\n",
       "        -0.33871454, -0.58491041],\n",
       "       [ 1.71464282, -0.36814533, -0.19816949, -1.43228493,  0.91154796,\n",
       "        -0.59865825, -0.58491041]])"
      ]
     },
     "execution_count": 32,
     "metadata": {},
     "output_type": "execute_result"
    }
   ],
   "source": [
    "from sklearn.preprocessing import StandardScaler\n",
    "scaler=StandardScaler()\n",
    "X=scaler.fit_transform(X)\n",
    "X"
   ]
  },
  {
   "cell_type": "code",
   "execution_count": 33,
   "metadata": {},
   "outputs": [
    {
     "data": {
      "text/plain": [
       "0         Urea\n",
       "1          DAP\n",
       "2     14-35-14\n",
       "3        28-28\n",
       "4         Urea\n",
       "        ...   \n",
       "94       28-28\n",
       "95    10-26-26\n",
       "96        Urea\n",
       "97         DAP\n",
       "98       20-20\n",
       "Name: Fertilizer, Length: 99, dtype: object"
      ]
     },
     "execution_count": 33,
     "metadata": {},
     "output_type": "execute_result"
    }
   ],
   "source": [
    "y"
   ]
  },
  {
   "cell_type": "code",
   "execution_count": 34,
   "metadata": {},
   "outputs": [],
   "source": [
    "X_Train,X_Test,y_Train,y_Test=train_test_split(X,y,test_size=0.1,random_state=2)"
   ]
  },
  {
   "cell_type": "code",
   "execution_count": 35,
   "metadata": {},
   "outputs": [],
   "source": [
    "from sklearn import svm\n",
    "from sklearn.metrics import classification_report,accuracy_score"
   ]
  },
  {
   "cell_type": "code",
   "execution_count": 36,
   "metadata": {},
   "outputs": [
    {
     "data": {
      "text/html": [
       "<style>#sk-container-id-3 {color: black;background-color: white;}#sk-container-id-3 pre{padding: 0;}#sk-container-id-3 div.sk-toggleable {background-color: white;}#sk-container-id-3 label.sk-toggleable__label {cursor: pointer;display: block;width: 100%;margin-bottom: 0;padding: 0.3em;box-sizing: border-box;text-align: center;}#sk-container-id-3 label.sk-toggleable__label-arrow:before {content: \"▸\";float: left;margin-right: 0.25em;color: #696969;}#sk-container-id-3 label.sk-toggleable__label-arrow:hover:before {color: black;}#sk-container-id-3 div.sk-estimator:hover label.sk-toggleable__label-arrow:before {color: black;}#sk-container-id-3 div.sk-toggleable__content {max-height: 0;max-width: 0;overflow: hidden;text-align: left;background-color: #f0f8ff;}#sk-container-id-3 div.sk-toggleable__content pre {margin: 0.2em;color: black;border-radius: 0.25em;background-color: #f0f8ff;}#sk-container-id-3 input.sk-toggleable__control:checked~div.sk-toggleable__content {max-height: 200px;max-width: 100%;overflow: auto;}#sk-container-id-3 input.sk-toggleable__control:checked~label.sk-toggleable__label-arrow:before {content: \"▾\";}#sk-container-id-3 div.sk-estimator input.sk-toggleable__control:checked~label.sk-toggleable__label {background-color: #d4ebff;}#sk-container-id-3 div.sk-label input.sk-toggleable__control:checked~label.sk-toggleable__label {background-color: #d4ebff;}#sk-container-id-3 input.sk-hidden--visually {border: 0;clip: rect(1px 1px 1px 1px);clip: rect(1px, 1px, 1px, 1px);height: 1px;margin: -1px;overflow: hidden;padding: 0;position: absolute;width: 1px;}#sk-container-id-3 div.sk-estimator {font-family: monospace;background-color: #f0f8ff;border: 1px dotted black;border-radius: 0.25em;box-sizing: border-box;margin-bottom: 0.5em;}#sk-container-id-3 div.sk-estimator:hover {background-color: #d4ebff;}#sk-container-id-3 div.sk-parallel-item::after {content: \"\";width: 100%;border-bottom: 1px solid gray;flex-grow: 1;}#sk-container-id-3 div.sk-label:hover label.sk-toggleable__label {background-color: #d4ebff;}#sk-container-id-3 div.sk-serial::before {content: \"\";position: absolute;border-left: 1px solid gray;box-sizing: border-box;top: 0;bottom: 0;left: 50%;z-index: 0;}#sk-container-id-3 div.sk-serial {display: flex;flex-direction: column;align-items: center;background-color: white;padding-right: 0.2em;padding-left: 0.2em;position: relative;}#sk-container-id-3 div.sk-item {position: relative;z-index: 1;}#sk-container-id-3 div.sk-parallel {display: flex;align-items: stretch;justify-content: center;background-color: white;position: relative;}#sk-container-id-3 div.sk-item::before, #sk-container-id-3 div.sk-parallel-item::before {content: \"\";position: absolute;border-left: 1px solid gray;box-sizing: border-box;top: 0;bottom: 0;left: 50%;z-index: -1;}#sk-container-id-3 div.sk-parallel-item {display: flex;flex-direction: column;z-index: 1;position: relative;background-color: white;}#sk-container-id-3 div.sk-parallel-item:first-child::after {align-self: flex-end;width: 50%;}#sk-container-id-3 div.sk-parallel-item:last-child::after {align-self: flex-start;width: 50%;}#sk-container-id-3 div.sk-parallel-item:only-child::after {width: 0;}#sk-container-id-3 div.sk-dashed-wrapped {border: 1px dashed gray;margin: 0 0.4em 0.5em 0.4em;box-sizing: border-box;padding-bottom: 0.4em;background-color: white;}#sk-container-id-3 div.sk-label label {font-family: monospace;font-weight: bold;display: inline-block;line-height: 1.2em;}#sk-container-id-3 div.sk-label-container {text-align: center;}#sk-container-id-3 div.sk-container {/* jupyter's `normalize.less` sets `[hidden] { display: none; }` but bootstrap.min.css set `[hidden] { display: none !important; }` so we also need the `!important` here to be able to override the default hidden behavior on the sphinx rendered scikit-learn.org. See: https://github.com/scikit-learn/scikit-learn/issues/21755 */display: inline-block !important;position: relative;}#sk-container-id-3 div.sk-text-repr-fallback {display: none;}</style><div id=\"sk-container-id-3\" class=\"sk-top-container\"><div class=\"sk-text-repr-fallback\"><pre>SVC(kernel=&#x27;linear&#x27;)</pre><b>In a Jupyter environment, please rerun this cell to show the HTML representation or trust the notebook. <br />On GitHub, the HTML representation is unable to render, please try loading this page with nbviewer.org.</b></div><div class=\"sk-container\" hidden><div class=\"sk-item\"><div class=\"sk-estimator sk-toggleable\"><input class=\"sk-toggleable__control sk-hidden--visually\" id=\"sk-estimator-id-3\" type=\"checkbox\" checked><label for=\"sk-estimator-id-3\" class=\"sk-toggleable__label sk-toggleable__label-arrow\">SVC</label><div class=\"sk-toggleable__content\"><pre>SVC(kernel=&#x27;linear&#x27;)</pre></div></div></div></div></div>"
      ],
      "text/plain": [
       "SVC(kernel='linear')"
      ]
     },
     "execution_count": 36,
     "metadata": {},
     "output_type": "execute_result"
    }
   ],
   "source": [
    "model=svm.SVC(kernel=\"linear\")\n",
    "model.fit(X_Train,y_Train)"
   ]
  },
  {
   "cell_type": "code",
   "execution_count": 37,
   "metadata": {},
   "outputs": [
    {
     "data": {
      "text/plain": [
       "array(['14-35-14', '28-28', 'Urea', 'DAP', 'Urea', 'Urea', '14-35-14',\n",
       "       'Urea', 'DAP', '28-28'], dtype=object)"
      ]
     },
     "execution_count": 37,
     "metadata": {},
     "output_type": "execute_result"
    }
   ],
   "source": [
    "predict_val=model.predict(X_Test)\n",
    "predict_val"
   ]
  },
  {
   "cell_type": "code",
   "execution_count": 38,
   "metadata": {},
   "outputs": [
    {
     "data": {
      "text/plain": [
       "93    14-35-14\n",
       "30       28-28\n",
       "56        Urea\n",
       "24       20-20\n",
       "16        Urea\n",
       "23        Urea\n",
       "2     14-35-14\n",
       "27        Urea\n",
       "28         DAP\n",
       "13       28-28\n",
       "Name: Fertilizer, dtype: object"
      ]
     },
     "execution_count": 38,
     "metadata": {},
     "output_type": "execute_result"
    }
   ],
   "source": [
    "y_Test"
   ]
  },
  {
   "cell_type": "code",
   "execution_count": 39,
   "metadata": {},
   "outputs": [
    {
     "data": {
      "text/plain": [
       "0.9"
      ]
     },
     "execution_count": 39,
     "metadata": {},
     "output_type": "execute_result"
    }
   ],
   "source": [
    "accuracy_score(predict_val,y_Test)"
   ]
  },
  {
   "cell_type": "code",
   "execution_count": 40,
   "metadata": {},
   "outputs": [
    {
     "name": "stdout",
     "output_type": "stream",
     "text": [
      "              precision    recall  f1-score   support\n",
      "\n",
      "    14-35-14       1.00      1.00      1.00         2\n",
      "       20-20       0.00      0.00      0.00         0\n",
      "       28-28       1.00      1.00      1.00         2\n",
      "         DAP       1.00      0.50      0.67         2\n",
      "        Urea       1.00      1.00      1.00         4\n",
      "\n",
      "    accuracy                           0.90        10\n",
      "   macro avg       0.80      0.70      0.73        10\n",
      "weighted avg       1.00      0.90      0.93        10\n",
      "\n"
     ]
    },
    {
     "name": "stderr",
     "output_type": "stream",
     "text": [
      "C:\\Users\\Jeremiah Velasco\\AppData\\Local\\Packages\\PythonSoftwareFoundation.Python.3.8_qbz5n2kfra8p0\\LocalCache\\local-packages\\Python38\\site-packages\\sklearn\\metrics\\_classification.py:1344: UndefinedMetricWarning: Recall and F-score are ill-defined and being set to 0.0 in labels with no true samples. Use `zero_division` parameter to control this behavior.\n",
      "  _warn_prf(average, modifier, msg_start, len(result))\n",
      "C:\\Users\\Jeremiah Velasco\\AppData\\Local\\Packages\\PythonSoftwareFoundation.Python.3.8_qbz5n2kfra8p0\\LocalCache\\local-packages\\Python38\\site-packages\\sklearn\\metrics\\_classification.py:1344: UndefinedMetricWarning: Recall and F-score are ill-defined and being set to 0.0 in labels with no true samples. Use `zero_division` parameter to control this behavior.\n",
      "  _warn_prf(average, modifier, msg_start, len(result))\n",
      "C:\\Users\\Jeremiah Velasco\\AppData\\Local\\Packages\\PythonSoftwareFoundation.Python.3.8_qbz5n2kfra8p0\\LocalCache\\local-packages\\Python38\\site-packages\\sklearn\\metrics\\_classification.py:1344: UndefinedMetricWarning: Recall and F-score are ill-defined and being set to 0.0 in labels with no true samples. Use `zero_division` parameter to control this behavior.\n",
      "  _warn_prf(average, modifier, msg_start, len(result))\n"
     ]
    }
   ],
   "source": [
    "print(classification_report(predict_val,y_Test))"
   ]
  },
  {
   "cell_type": "code",
   "execution_count": 41,
   "metadata": {},
   "outputs": [],
   "source": [
    "import pickle\n",
    "pickle.dump(model, open(\"../pickledFiles/fertilizerRecommendation1.pkl\", \"wb\"))"
   ]
  }
 ],
 "metadata": {
  "kernelspec": {
   "display_name": "Python 3",
   "language": "python",
   "name": "python3"
  },
  "language_info": {
   "codemirror_mode": {
    "name": "ipython",
    "version": 3
   },
   "file_extension": ".py",
   "mimetype": "text/x-python",
   "name": "python",
   "nbconvert_exporter": "python",
   "pygments_lexer": "ipython3",
   "version": "3.8.10"
  },
  "orig_nbformat": 2
 },
 "nbformat": 4,
 "nbformat_minor": 2
}
