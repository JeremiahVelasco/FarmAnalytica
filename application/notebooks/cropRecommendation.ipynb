{
 "cells": [
  {
   "cell_type": "code",
   "execution_count": 31,
   "metadata": {},
   "outputs": [],
   "source": [
    "# Import Libraries\n",
    "import pandas as pd\n",
    "from sklearn.model_selection import train_test_split\n",
    "from sklearn import metrics\n",
    "from sklearn.model_selection import cross_val_score\n",
    "from sklearn.metrics import classification_report\n",
    "# Models\n",
    "from sklearn.ensemble import RandomForestClassifier\n",
    "import pickle"
   ]
  },
  {
   "cell_type": "code",
   "execution_count": 32,
   "metadata": {},
   "outputs": [],
   "source": [
    "# Define DataFrame\n",
    "cropRecommendation=pd.read_csv(\"../preprocessedData/preprocessedcroprecommendation.csv\")"
   ]
  },
  {
   "cell_type": "code",
   "execution_count": 33,
   "metadata": {},
   "outputs": [],
   "source": [
    "features=cropRecommendation[[\"N\",\"P\",\"K\",\"temperature\",\"humidity\",\"precipitation\"]]\n",
    "target=cropRecommendation[\"crop\"]"
   ]
  },
  {
   "cell_type": "code",
   "execution_count": 34,
   "metadata": {},
   "outputs": [],
   "source": [
    "# Train Test Split\n",
    "X_train,X_test,Y_train,Y_test=train_test_split(features,target,test_size=0.1,random_state=2)"
   ]
  },
  {
   "cell_type": "code",
   "execution_count": 35,
   "metadata": {},
   "outputs": [
    {
     "data": {
      "text/html": [
       "<style>#sk-container-id-4 {color: black;background-color: white;}#sk-container-id-4 pre{padding: 0;}#sk-container-id-4 div.sk-toggleable {background-color: white;}#sk-container-id-4 label.sk-toggleable__label {cursor: pointer;display: block;width: 100%;margin-bottom: 0;padding: 0.3em;box-sizing: border-box;text-align: center;}#sk-container-id-4 label.sk-toggleable__label-arrow:before {content: \"▸\";float: left;margin-right: 0.25em;color: #696969;}#sk-container-id-4 label.sk-toggleable__label-arrow:hover:before {color: black;}#sk-container-id-4 div.sk-estimator:hover label.sk-toggleable__label-arrow:before {color: black;}#sk-container-id-4 div.sk-toggleable__content {max-height: 0;max-width: 0;overflow: hidden;text-align: left;background-color: #f0f8ff;}#sk-container-id-4 div.sk-toggleable__content pre {margin: 0.2em;color: black;border-radius: 0.25em;background-color: #f0f8ff;}#sk-container-id-4 input.sk-toggleable__control:checked~div.sk-toggleable__content {max-height: 200px;max-width: 100%;overflow: auto;}#sk-container-id-4 input.sk-toggleable__control:checked~label.sk-toggleable__label-arrow:before {content: \"▾\";}#sk-container-id-4 div.sk-estimator input.sk-toggleable__control:checked~label.sk-toggleable__label {background-color: #d4ebff;}#sk-container-id-4 div.sk-label input.sk-toggleable__control:checked~label.sk-toggleable__label {background-color: #d4ebff;}#sk-container-id-4 input.sk-hidden--visually {border: 0;clip: rect(1px 1px 1px 1px);clip: rect(1px, 1px, 1px, 1px);height: 1px;margin: -1px;overflow: hidden;padding: 0;position: absolute;width: 1px;}#sk-container-id-4 div.sk-estimator {font-family: monospace;background-color: #f0f8ff;border: 1px dotted black;border-radius: 0.25em;box-sizing: border-box;margin-bottom: 0.5em;}#sk-container-id-4 div.sk-estimator:hover {background-color: #d4ebff;}#sk-container-id-4 div.sk-parallel-item::after {content: \"\";width: 100%;border-bottom: 1px solid gray;flex-grow: 1;}#sk-container-id-4 div.sk-label:hover label.sk-toggleable__label {background-color: #d4ebff;}#sk-container-id-4 div.sk-serial::before {content: \"\";position: absolute;border-left: 1px solid gray;box-sizing: border-box;top: 0;bottom: 0;left: 50%;z-index: 0;}#sk-container-id-4 div.sk-serial {display: flex;flex-direction: column;align-items: center;background-color: white;padding-right: 0.2em;padding-left: 0.2em;position: relative;}#sk-container-id-4 div.sk-item {position: relative;z-index: 1;}#sk-container-id-4 div.sk-parallel {display: flex;align-items: stretch;justify-content: center;background-color: white;position: relative;}#sk-container-id-4 div.sk-item::before, #sk-container-id-4 div.sk-parallel-item::before {content: \"\";position: absolute;border-left: 1px solid gray;box-sizing: border-box;top: 0;bottom: 0;left: 50%;z-index: -1;}#sk-container-id-4 div.sk-parallel-item {display: flex;flex-direction: column;z-index: 1;position: relative;background-color: white;}#sk-container-id-4 div.sk-parallel-item:first-child::after {align-self: flex-end;width: 50%;}#sk-container-id-4 div.sk-parallel-item:last-child::after {align-self: flex-start;width: 50%;}#sk-container-id-4 div.sk-parallel-item:only-child::after {width: 0;}#sk-container-id-4 div.sk-dashed-wrapped {border: 1px dashed gray;margin: 0 0.4em 0.5em 0.4em;box-sizing: border-box;padding-bottom: 0.4em;background-color: white;}#sk-container-id-4 div.sk-label label {font-family: monospace;font-weight: bold;display: inline-block;line-height: 1.2em;}#sk-container-id-4 div.sk-label-container {text-align: center;}#sk-container-id-4 div.sk-container {/* jupyter's `normalize.less` sets `[hidden] { display: none; }` but bootstrap.min.css set `[hidden] { display: none !important; }` so we also need the `!important` here to be able to override the default hidden behavior on the sphinx rendered scikit-learn.org. See: https://github.com/scikit-learn/scikit-learn/issues/21755 */display: inline-block !important;position: relative;}#sk-container-id-4 div.sk-text-repr-fallback {display: none;}</style><div id=\"sk-container-id-4\" class=\"sk-top-container\"><div class=\"sk-text-repr-fallback\"><pre>RandomForestClassifier(n_estimators=20, random_state=0)</pre><b>In a Jupyter environment, please rerun this cell to show the HTML representation or trust the notebook. <br />On GitHub, the HTML representation is unable to render, please try loading this page with nbviewer.org.</b></div><div class=\"sk-container\" hidden><div class=\"sk-item\"><div class=\"sk-estimator sk-toggleable\"><input class=\"sk-toggleable__control sk-hidden--visually\" id=\"sk-estimator-id-4\" type=\"checkbox\" checked><label for=\"sk-estimator-id-4\" class=\"sk-toggleable__label sk-toggleable__label-arrow\">RandomForestClassifier</label><div class=\"sk-toggleable__content\"><pre>RandomForestClassifier(n_estimators=20, random_state=0)</pre></div></div></div></div></div>"
      ],
      "text/plain": [
       "RandomForestClassifier(n_estimators=20, random_state=0)"
      ]
     },
     "execution_count": 35,
     "metadata": {},
     "output_type": "execute_result"
    }
   ],
   "source": [
    "# Training\n",
    "RandomForest=RandomForestClassifier(n_estimators=20,random_state=0)\n",
    "RandomForest.fit(X_train,Y_train)"
   ]
  },
  {
   "cell_type": "code",
   "execution_count": 36,
   "metadata": {},
   "outputs": [
    {
     "data": {
      "text/plain": [
       "array(['coffee', 'pomegranate', 'pomegranate', 'cotton', 'mungbean',\n",
       "       'coffee', 'watermelon', 'coconut', 'pigeonpeas', 'mango',\n",
       "       'chickpea', 'jute', 'papaya', 'mothbeans', 'mango', 'maize',\n",
       "       'orange', 'blackgram', 'cotton', 'orange', 'banana', 'kidneybeans',\n",
       "       'muskmelon', 'banana', 'mango', 'kidneybeans', 'coconut',\n",
       "       'coconut', 'jute', 'mungbean', 'pomegranate', 'chickpea',\n",
       "       'mungbean', 'mungbean', 'mothbeans', 'coffee', 'cotton',\n",
       "       'muskmelon', 'blackgram', 'blackgram', 'papaya', 'pomegranate',\n",
       "       'pomegranate', 'jute', 'mothbeans', 'pomegranate', 'pomegranate',\n",
       "       'mungbean', 'coffee', 'chickpea', 'coffee', 'blackgram', 'cotton',\n",
       "       'pigeonpeas', 'cotton', 'lentil', 'mungbean', 'banana', 'lentil',\n",
       "       'orange', 'jute', 'jute', 'pigeonpeas', 'grapes', 'pigeonpeas',\n",
       "       'grapes', 'grapes', 'pomegranate', 'coffee', 'maize', 'apple',\n",
       "       'orange', 'chickpea', 'mango', 'banana', 'maize', 'banana', 'jute',\n",
       "       'pomegranate', 'mungbean', 'mango', 'banana', 'rice', 'mothbeans',\n",
       "       'banana', 'muskmelon', 'orange', 'maize', 'maize', 'coconut',\n",
       "       'rice', 'orange', 'mango', 'orange', 'orange', 'muskmelon',\n",
       "       'banana', 'maize', 'lentil', 'blackgram', 'muskmelon', 'apple',\n",
       "       'muskmelon', 'coffee', 'mungbean', 'jute', 'maize', 'pomegranate',\n",
       "       'lentil', 'orange', 'banana', 'chickpea', 'banana', 'coconut',\n",
       "       'apple', 'kidneybeans', 'chickpea', 'mothbeans', 'mango', 'banana',\n",
       "       'jute', 'rice', 'mungbean', 'watermelon', 'cotton', 'muskmelon',\n",
       "       'papaya', 'orange', 'orange', 'mungbean', 'coffee', 'muskmelon',\n",
       "       'rice', 'cotton', 'chickpea', 'coffee', 'coffee', 'lentil',\n",
       "       'maize', 'mothbeans', 'blackgram', 'coconut', 'apple', 'mango',\n",
       "       'mango', 'orange', 'rice', 'pigeonpeas', 'cotton', 'cotton',\n",
       "       'cotton', 'cotton', 'coconut', 'lentil', 'grapes', 'papaya',\n",
       "       'pigeonpeas', 'jute', 'orange', 'coffee', 'chickpea', 'mungbean',\n",
       "       'muskmelon', 'coconut', 'rice', 'rice', 'mungbean', 'mango',\n",
       "       'muskmelon', 'grapes', 'orange', 'pigeonpeas', 'chickpea',\n",
       "       'watermelon', 'kidneybeans', 'pigeonpeas', 'kidneybeans', 'papaya',\n",
       "       'grapes', 'mango', 'jute', 'mungbean', 'orange', 'watermelon',\n",
       "       'banana', 'grapes', 'jute', 'muskmelon', 'rice', 'papaya',\n",
       "       'grapes', 'pigeonpeas', 'papaya', 'lentil', 'mango', 'watermelon',\n",
       "       'apple', 'coconut', 'blackgram', 'mungbean', 'pomegranate', 'jute',\n",
       "       'apple', 'mothbeans', 'muskmelon', 'coconut', 'watermelon',\n",
       "       'maize', 'kidneybeans', 'watermelon', 'apple', 'rice', 'chickpea',\n",
       "       'watermelon', 'banana', 'mungbean', 'coconut', 'pomegranate',\n",
       "       'apple', 'maize'], dtype=object)"
      ]
     },
     "execution_count": 36,
     "metadata": {},
     "output_type": "execute_result"
    }
   ],
   "source": [
    "# Testing\n",
    "predicted_values=RandomForest.predict(X_test)\n",
    "predicted_values"
   ]
  },
  {
   "cell_type": "code",
   "execution_count": 37,
   "metadata": {},
   "outputs": [
    {
     "name": "stdout",
     "output_type": "stream",
     "text": [
      "Crop Recommendation Accuracy: 0.9954545454545455\n"
     ]
    }
   ],
   "source": [
    "# Accuracy\n",
    "accuracy_score=metrics.accuracy_score(Y_test, predicted_values)\n",
    "print(\"Crop Recommendation Accuracy:\",accuracy_score)"
   ]
  },
  {
   "cell_type": "code",
   "execution_count": 38,
   "metadata": {},
   "outputs": [
    {
     "name": "stdout",
     "output_type": "stream",
     "text": [
      "Crop Validation Score:  0.9954545454545455 0.9863636363636363 0.9931818181818182 0.9954545454545455 0.9818181818181818\n"
     ]
    }
   ],
   "source": [
    "# Cross Validation Score\n",
    "cross_val_score=cross_val_score(RandomForest,features,target,cv=5)\n",
    "print(\"Crop Validation Score: \",*cross_val_score)"
   ]
  },
  {
   "cell_type": "code",
   "execution_count": 39,
   "metadata": {},
   "outputs": [
    {
     "name": "stdout",
     "output_type": "stream",
     "text": [
      "              precision    recall  f1-score   support\n",
      "\n",
      "       apple       1.00      1.00      1.00         8\n",
      "      banana       1.00      1.00      1.00        13\n",
      "   blackgram       1.00      1.00      1.00         7\n",
      "    chickpea       1.00      1.00      1.00        10\n",
      "     coconut       1.00      1.00      1.00        11\n",
      "      coffee       1.00      1.00      1.00        11\n",
      "      cotton       1.00      1.00      1.00        11\n",
      "      grapes       1.00      1.00      1.00         8\n",
      "        jute       1.00      0.92      0.96        13\n",
      " kidneybeans       1.00      1.00      1.00         6\n",
      "      lentil       1.00      1.00      1.00         7\n",
      "       maize       1.00      1.00      1.00        10\n",
      "       mango       1.00      1.00      1.00        12\n",
      "   mothbeans       1.00      1.00      1.00         7\n",
      "    mungbean       1.00      1.00      1.00        15\n",
      "   muskmelon       1.00      1.00      1.00        12\n",
      "      orange       1.00      1.00      1.00        15\n",
      "      papaya       1.00      1.00      1.00         7\n",
      "  pigeonpeas       1.00      1.00      1.00         9\n",
      " pomegranate       1.00      1.00      1.00        12\n",
      "        rice       0.89      1.00      0.94         8\n",
      "  watermelon       1.00      1.00      1.00         8\n",
      "\n",
      "    accuracy                           1.00       220\n",
      "   macro avg       0.99      1.00      1.00       220\n",
      "weighted avg       1.00      1.00      1.00       220\n",
      "\n"
     ]
    }
   ],
   "source": [
    "# Classofication Report\n",
    "print(classification_report(Y_test,predicted_values))"
   ]
  },
  {
   "cell_type": "code",
   "execution_count": 40,
   "metadata": {},
   "outputs": [],
   "source": [
    "pickle.dump(RandomForest, open(\"../pickledFiles/cropRecommendation.pkl\", \"wb\"))"
   ]
  }
 ],
 "metadata": {
  "kernelspec": {
   "display_name": "Python 3",
   "language": "python",
   "name": "python3"
  },
  "language_info": {
   "codemirror_mode": {
    "name": "ipython",
    "version": 3
   },
   "file_extension": ".py",
   "mimetype": "text/x-python",
   "name": "python",
   "nbconvert_exporter": "python",
   "pygments_lexer": "ipython3",
   "version": "3.8.10"
  },
  "orig_nbformat": 4
 },
 "nbformat": 4,
 "nbformat_minor": 2
}
