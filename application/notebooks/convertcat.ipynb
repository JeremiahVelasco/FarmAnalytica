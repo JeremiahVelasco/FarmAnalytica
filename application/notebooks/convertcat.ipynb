{
 "cells": [
  {
   "cell_type": "code",
   "execution_count": 4,
   "metadata": {},
   "outputs": [],
   "source": [
    "import pandas as pd\n",
    "import numpy as np"
   ]
  },
  {
   "cell_type": "code",
   "execution_count": 5,
   "metadata": {},
   "outputs": [],
   "source": [
    "fertilizerPrediction=pd.read_csv(\"../data/datafertilizerprediction.csv\")"
   ]
  },
  {
   "cell_type": "code",
   "execution_count": 6,
   "metadata": {},
   "outputs": [
    {
     "name": "stdout",
     "output_type": "stream",
     "text": [
      "Crop Recommendation Unique Crops:  ['urea' 'dap' '14-35-14' '28-28' '17-17-17' '20-20' '10-26-26']\n",
      "Crop Recommendation Unique Crops:  ['sandy' 'loamy' 'black' 'red' 'clayey']\n",
      "Crop Recommendation Unique Crops:  ['maize' 'sugarcane' 'cotton' 'tobacco' 'paddy' 'barley' 'wheat' 'millets'\n",
      " 'oil seeds' 'pulses' 'ground nuts']\n"
     ]
    }
   ],
   "source": [
    "frUnique=pd.unique(fertilizerPrediction[\"Fertilizer\"].str.lower())\n",
    "stUnique=pd.unique(fertilizerPrediction[\"Soil Type\"].str.lower())\n",
    "ctUnique=pd.unique(fertilizerPrediction[\"Crop Type\"].str.lower())\n",
    "\n",
    "print(\"Crop Recommendation Unique Crops: \",frUnique)\n",
    "print(\"Crop Recommendation Unique Crops: \",stUnique)\n",
    "print(\"Crop Recommendation Unique Crops: \",ctUnique)"
   ]
  },
  {
   "cell_type": "code",
   "execution_count": 12,
   "metadata": {},
   "outputs": [],
   "source": [
    "fertilizerPrediction['Fertilizer']=fertilizerPrediction['Fertilizer'].astype('category')\n",
    "fertilizerPrediction['Soil Type']=fertilizerPrediction['Soil Type'].astype('category')\n",
    "fertilizerPrediction['Crop Type']=fertilizerPrediction['Crop Type'].astype('category')"
   ]
  },
  {
   "cell_type": "code",
   "execution_count": 14,
   "metadata": {},
   "outputs": [],
   "source": [
    "fertilizerPrediction['Fertilizer']=fertilizerPrediction['Fertilizer'].cat.codes\n",
    "fertilizerPrediction['Soil Type']=fertilizerPrediction['Soil Type'].cat.codes\n",
    "fertilizerPrediction['Crop Type']=fertilizerPrediction['Crop Type'].cat.codes"
   ]
  },
  {
   "cell_type": "code",
   "execution_count": 16,
   "metadata": {},
   "outputs": [
    {
     "name": "stdout",
     "output_type": "stream",
     "text": [
      "Crop Recommendation Unique Crops:  [6 5 1 4 2 3 0]\n",
      "Crop Recommendation Unique Crops:  [4 2 0 3 1]\n",
      "Crop Recommendation Unique Crops:  [ 3  8  1  9  6  0 10  4  5  7  2]\n"
     ]
    }
   ],
   "source": [
    "fer=pd.unique(fertilizerPrediction['Fertilizer'])\n",
    "st=pd.unique(fertilizerPrediction['Soil Type'])\n",
    "ct=pd.unique(fertilizerPrediction['Crop Type'])\n",
    "\n",
    "\n",
    "print(\"Crop Recommendation Unique Crops: \",fer)\n",
    "print(\"Crop Recommendation Unique Crops: \",st)\n",
    "print(\"Crop Recommendation Unique Crops: \",ct)"
   ]
  },
  {
   "cell_type": "code",
   "execution_count": 18,
   "metadata": {},
   "outputs": [
    {
     "name": "stdout",
     "output_type": "stream",
     "text": [
      "['urea' 'dap' '14-35-14' '28-28' '17-17-17' '20-20' '10-26-26']\n",
      "[6 5 1 4 2 3 0]\n",
      "\n",
      "\n",
      "['sandy' 'loamy' 'black' 'red' 'clayey']\n",
      "[4 2 0 3 1]\n",
      "\n",
      "\n",
      "['maize' 'sugarcane' 'cotton' 'tobacco' 'paddy' 'barley' 'wheat' 'millets'\n",
      " 'oil seeds' 'pulses' 'ground nuts']\n",
      "[ 3  8  1  9  6  0 10  4  5  7  2]\n"
     ]
    }
   ],
   "source": [
    "print(frUnique)\n",
    "print(fer)\n",
    "\n",
    "print()\n",
    "print()\n",
    "\n",
    "print(stUnique)\n",
    "print(st)\n",
    "\n",
    "print()\n",
    "print()\n",
    "\n",
    "print(ctUnique)\n",
    "print(ct)"
   ]
  }
 ],
 "metadata": {
  "kernelspec": {
   "display_name": "Python 3",
   "language": "python",
   "name": "python3"
  },
  "language_info": {
   "codemirror_mode": {
    "name": "ipython",
    "version": 3
   },
   "file_extension": ".py",
   "mimetype": "text/x-python",
   "name": "python",
   "nbconvert_exporter": "python",
   "pygments_lexer": "ipython3",
   "version": "3.8.10"
  },
  "orig_nbformat": 4
 },
 "nbformat": 4,
 "nbformat_minor": 2
}
